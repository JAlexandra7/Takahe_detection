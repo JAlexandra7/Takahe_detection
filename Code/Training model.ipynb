{
 "cells": [
  {
   "cell_type": "code",
   "execution_count": 105,
   "id": "1b788e72",
   "metadata": {},
   "outputs": [],
   "source": [
    "# Citations\n",
    "# GBIF.org (15 June 2025) GBIF Occurrence Download  https://doi.org/10.15468/dl.mhxdcy\n",
    "# Data was obtained from GBIF-NZ, it includes records from 6 datasets: iNaturalist Research-grade Observations Observation.org, Nature data from around the World, Auckland Museum Land Vertebrates Collection, Xeno-canto - Bird sounds from around the world, NABU|naturgucker, MVZ Egg and Nest Collection (Arctos)\n",
    "# There were 4258 occurances in the original dataset, but this was reduced to 4202 occurances as a result of data cleaning.\n",
    "# Of the original 4258 occurances, 581 were takahe (Porphyrio hochstetteri) and 3621 were pukeko (Porphyrio melanotus subsp. melanotus).\n",
    "# In the cleaned dataset 550 were takahe (Porphyrio hochstetteri) and 3557 were pukeko (Porphyrio melanotus subsp. melanotus).\n",
    "# The data cleaning and downloading of the images was performed in Rstudio.\n",
    "# Made using Python 3.12.9\n"
   ]
  },
  {
   "cell_type": "code",
   "execution_count": 106,
   "id": "f0803183",
   "metadata": {},
   "outputs": [],
   "source": [
    "# loading packages, using python 3.12.9\n",
    "import torch\n",
    "import torchvision\n",
    "import numpy as np\n",
    "import pandas as pd\n",
    "import matplotlib.pyplot as plt\n",
    "from torch.utils.data import DataLoader, Subset, random_split\n",
    "from torchvision.datasets import ImageFolder\n",
    "from sklearn.metrics import accuracy_score\n",
    "import torch.nn as nn\n",
    "import torch.optim as optim\n",
    "import torchvision.transforms as transforms\n",
    "import torch.nn as nn\n",
    "import torch.nn.functional as F\n",
    "from torchvision import datasets\n"
   ]
  },
  {
   "cell_type": "code",
   "execution_count": null,
   "id": "8f23706b",
   "metadata": {},
   "outputs": [],
   "source": [
    "# Transforming the data by resizing the images, converting the images to tensors and normalizing the images\n",
    "Transform_data = transforms.Compose([\n",
    "    # Resizes images to 600 by 600 pixels\n",
    "    transforms.Resize((600, 600)),\n",
    "    # randomly horizontally flips images\n",
    "    transforms.RandomHorizontalFlip(p = 0.1),\n",
    "    # randomly rotates images\n",
    "    transforms.RandomRotation(degrees = (0, 180)),\n",
    "    # Randomly alters the visual appearance of the images during training\n",
    "    transforms.ColorJitter(brightness = 0.2, contrast = 0.2, saturation = 0.2, hue = 0.1),\n",
    "    # randomly crops a random portion of an image\n",
    "    # transforms.RandomResizedCrop(size = (128, 128)),\n",
    "    # turns images into tensors\n",
    "    transforms.ToTensor(),\n",
    "    # Normalises the data\n",
    "    transforms.Normalize((0.5, 0.5, 0.5), (0.5, 0.5, 0.5))\n",
    "])\n",
    "\n",
    "# random data augmentation techniques are not used on the validation set to avoid overfitting and \n",
    "V_Transform_data = transforms.Compose([\n",
    "    # Resizes images to 600 by 600 pixels\n",
    "    transforms.Resize((600, 600)),\n",
    "    # turns images into tensors\n",
    "    transforms.ToTensor(),\n",
    "    # Normalises the data\n",
    "    transforms.Normalize((0.5, 0.5, 0.5), (0.5, 0.5, 0.5))\n",
    "])\n",
    "# Importing data and splitting the dataset into training, validation and testing sets\n",
    "Images = ImageFolder(root = \"Train_data\", transform = None)\n",
    "\n",
    "# 3) Split into train/val/test once, capturing indices\n",
    "total_size = len(Images)  # Should be 4106\n",
    "train_size = int(0.7 * total_size)\n",
    "val_size = int(0.15 * total_size)\n",
    "test_size = total_size - train_size - val_size  # Ensures total sums correctly\n",
    "\n",
    "# Setting a seed to ensure reproducible results\n",
    "generator = torch.Generator().manual_seed(0)\n",
    "\n",
    "training_subset, validation_subset, Test_subset = random_split(Images, [train_size, val_size, test_size], generator = generator)\n",
    "train_idx = training_subset.indices\n",
    "val_idx   = validation_subset.indices\n",
    "test_idx  = Test_subset.indices\n",
    "\n",
    "\n",
    "# 4) creating three ImageFolder datasets with transforms, and sub-indexing them:\n",
    "train_ds = Subset(ImageFolder(\"Train_data\", transform = Transform_data), train_idx)\n",
    "val_ds   = Subset(ImageFolder(\"Train_data\", transform = V_Transform_data),  val_idx)\n",
    "test_ds  = Subset(ImageFolder(\"Train_data\", transform = V_Transform_data),  test_idx)\n",
    "\n",
    "# 5) Build your loaders\n",
    "train_loader = DataLoader(train_ds, batch_size=35, shuffle = True)\n",
    "validation_loader = DataLoader(val_ds, batch_size=35, shuffle = False)\n",
    "test_loader  = DataLoader(test_ds, batch_size=35, shuffle = False)\n"
   ]
  },
  {
   "cell_type": "code",
   "execution_count": 122,
   "id": "0a2ff9bc",
   "metadata": {},
   "outputs": [],
   "source": [
    "# Saving my test indexes to use in my \"Testing model\" file\n",
    "with open(\"test_idx.txt\", \"w\") as file:\n",
    "    for item in test_idx:\n",
    "        file.write(str(item) + \"\\n\")"
   ]
  },
  {
   "cell_type": "code",
   "execution_count": 108,
   "id": "d9dafde6",
   "metadata": {},
   "outputs": [
    {
     "name": "stdout",
     "output_type": "stream",
     "text": [
      "{'Pukeko': 0, 'Takahe': 1}\n"
     ]
    }
   ],
   "source": [
    "# checking order of the classes\n",
    "print(datasets.ImageFolder(root='Train_data').class_to_idx)"
   ]
  },
  {
   "cell_type": "code",
   "execution_count": 109,
   "id": "ebef231c",
   "metadata": {},
   "outputs": [],
   "source": [
    "classes = (\"Pukeko\", \"Takahe\")"
   ]
  },
  {
   "cell_type": "code",
   "execution_count": 110,
   "id": "bfb9c858",
   "metadata": {},
   "outputs": [],
   "source": [
    "# Defining the CNN model\n",
    "class Net(nn.Module):\n",
    "    def __init__(self):\n",
    "        super().__init__()\n",
    "        # Feature extraction\n",
    "        # convolution layer generates a feature map\n",
    "        self.conv1 = nn.Conv2d(in_channels = 3, out_channels = 16, kernel_size = 3, stride = 2, padding = 1)\n",
    "        # batch normalisation\n",
    "        self.batch1 = nn.BatchNorm2d(16, momentum = 0.1, affine = True) #  momentum and affine are set to default,\n",
    "        # Using stride = 2 for first conv, then pooling on 2nd conv, then stride = 2 for thrid conv\n",
    "\n",
    "        self.conv2 = nn.Conv2d(in_channels = 16, out_channels = 32, kernel_size = 3, stride = 1)\n",
    "        self.batch2 = nn.BatchNorm2d(32, momentum = 0.1, affine = True) #  momentum and affine are set to default\n",
    "        # reduce the size of the feature map\n",
    "        self.pool = nn.MaxPool2d(kernel_size = 5, stride = 5, padding = 0, ceil_mode = True)\n",
    "\n",
    "        self.conv3 = nn.Conv2d(in_channels = 32, out_channels = 64, kernel_size = 3, stride = 2)\n",
    "        self.batch3 = nn.BatchNorm2d(64, momentum = 0.1, affine = True) #  momentum and affine are set to default\n",
    "        \n",
    "        self.pool2 = nn.AdaptiveAvgPool2d((1, 1))\n",
    "\n",
    "        # applies a linear transformation to the data\n",
    "        self.fc1 = nn.Linear(in_features = 64, out_features = 32)\n",
    "        self.batchfc1 = nn.BatchNorm1d(32)\n",
    "        self.fc2 = nn.Linear(in_features = 32, out_features = 16)\n",
    "        self.batchfc2 = nn.BatchNorm1d(16)\n",
    "        self.fc3 = nn.Linear(in_features = 16, out_features = 8)\n",
    "        self.batchfc3 = nn.BatchNorm1d(8)\n",
    "        # out_features corresponds to the number of classes\n",
    "        self.fc4 = nn.Linear(in_features = 8, out_features = 2)\n",
    "\n",
    "    def forward(self, x):\n",
    "        # Note that printing is for debugging\n",
    "        #print(x.shape)\n",
    "        # blocks: conv, batch, relu, pooling\n",
    "        x = F.relu(self.pool(self.batch1(self.conv1(x))))\n",
    "        #print(x.shape)\n",
    "        x = F.relu(self.batch2(self.conv2(x)))\n",
    "        #print(x.shape)\n",
    "        x = F.relu(self.pool(self.batch3(self.conv3(x))))\n",
    "        #print(x.shape)\n",
    "        # Flattens input 'x' by reshaping it into a one dimensional tensor.\n",
    "        x = self.pool2(x)\n",
    "        #print(\"just pooled\")\n",
    "        #print(x.shape)\n",
    "        x = torch.flatten(x, 1)\n",
    "        # linear\n",
    "        #print(x.shape)\n",
    "        #print(\"just flattened\")\n",
    "        x = F.relu(self.batchfc1(self.fc1(x)))\n",
    "        #print(\"lin 1\")\n",
    "        x = F.relu(self.batchfc2(self.fc2(x)))\n",
    "        x = F.relu(self.batchfc3(self.fc3(x)))\n",
    "        x = self.fc4(x)\n",
    "        return x\n",
    "\n",
    "\n",
    "\n",
    "model = Net()"
   ]
  },
  {
   "cell_type": "code",
   "execution_count": null,
   "id": "a5c30fe6",
   "metadata": {},
   "outputs": [],
   "source": [
    "# defining the loss function and the optimiser\n",
    "# Adding class weights to adjust for imbalanced data set (signficantly more pukeko than takahe in the dataset, pukeko make up around 87% of the data, and takahe make up about 13%)\n",
    "class_weights = torch.tensor([0.13, 0.87])\n",
    "loss_function = nn.CrossEntropyLoss(weight = class_weights)\n",
    "optimiser = optim.Adagrad(model.parameters(), lr = 0.001, weight_decay = 0)"
   ]
  },
  {
   "cell_type": "code",
   "execution_count": 112,
   "id": "7c3ccaee",
   "metadata": {},
   "outputs": [
    {
     "name": "stdout",
     "output_type": "stream",
     "text": [
      "0\n",
      "1\n",
      "2\n",
      "3\n",
      "4\n",
      "5\n",
      "6\n",
      "7\n",
      "8\n",
      "9\n",
      "Finished Training\n"
     ]
    }
   ],
   "source": [
    "train_loss = []\n",
    "# Training the model on the training data\n",
    "for epoch in range(10):\n",
    "\n",
    "    running_loss = 0.0\n",
    "    for i, data in enumerate(train_loader, 0):\n",
    "        inputs, labels = data\n",
    "\n",
    "        optimiser.zero_grad()\n",
    "        outputs = model(inputs) # model predictions\n",
    "        \n",
    "        loss = loss_function(outputs, labels) # compute loss\n",
    "        loss.backward() # compute gradients\n",
    "        optimiser.step() # update weights\n",
    "\n",
    "        running_loss += loss.item() * inputs.size(0)\n",
    "        if i % 2000 == 1999:\n",
    "            print(f'[{epoch + 1}, {i + 1:5d}] loss: {running_loss / 2000:.3f}')\n",
    "            running_loss = 0.0\n",
    "\n",
    "    epoch_loss = running_loss / len(training_set)\n",
    "    train_loss.append(epoch_loss)\n",
    "    # Printing the epoch helps inform me how long it takes for each epoch to run\n",
    "    print(epoch)\n",
    "\n",
    "print('Finished Training')"
   ]
  },
  {
   "cell_type": "code",
   "execution_count": 113,
   "id": "76acae81",
   "metadata": {},
   "outputs": [],
   "source": [
    "# Takes about 4 min per epoch, so 30 min for 10 epochs (it was only through 3 epochs at 13 min, and 4 epochs at 15m in)\n",
    "# Took --- minutes over all, meaning approx --- min per epoch\n",
    "# Note the 3rd epoch took much longer to run than the first 2\n",
    "\n",
    "# Takes about 3 min per epoch, so 30 min for 10 epochs (using 10 epochs and weighting of 7 for takahe)\n",
    "# 3 total epoches at 11 minutes, 5 total epoches at 17 minutes, 6 total epoches at 23 minutes\n",
    "# Prev: Takes about 6 min per epoch, so 60 min or 1 hr for 10 epochs"
   ]
  },
  {
   "cell_type": "code",
   "execution_count": 114,
   "id": "c2cde95a",
   "metadata": {},
   "outputs": [
    {
     "data": {
      "image/png": "[encoded data removed]",
      "text/plain": [
       "<Figure size 640x480 with 1 Axes>"
      ]
     },
     "metadata": {},
     "output_type": "display_data"
    }
   ],
   "source": [
    "plt.plot(train_loss, label = 'Epoch Loss')\n",
    "plt.xlabel('Epoch')\n",
    "plt.ylabel('Loss')\n",
    "plt.title('Training Loss per Epoch')\n",
    "plt.legend()\n",
    "plt.show()"
   ]
  },
  {
   "cell_type": "code",
   "execution_count": 115,
   "id": "bae71018",
   "metadata": {},
   "outputs": [
    {
     "name": "stdout",
     "output_type": "stream",
     "text": [
      "Accuracy of the network on the validation images: 78 %\n"
     ]
    }
   ],
   "source": [
    "# Checking the overall accuracy of the model on the validation set.\n",
    "correct = 0\n",
    "total = 0\n",
    "with torch.no_grad():\n",
    "    for data in validation_loader:\n",
    "        images, labels = data\n",
    "        outputs = model(images)\n",
    "        _, predicted = torch.max(outputs.data, 1)\n",
    "        total += labels.size(0)\n",
    "        correct += (predicted == labels).sum().item()\n",
    "\n",
    "print(f'Accuracy of the network on the validation images: {100 * correct // total} %')"
   ]
  },
  {
   "cell_type": "code",
   "execution_count": 116,
   "id": "aa56f52f",
   "metadata": {},
   "outputs": [
    {
     "name": "stdout",
     "output_type": "stream",
     "text": [
      "Accuracy for class: Pukeko is 84.9 %\n",
      "Accuracy for class: Takahe is 35.4 %\n"
     ]
    }
   ],
   "source": [
    "# Checking the accuracy for each class on the validation set.\n",
    "correct_pred = {classname: 0 for classname in classes}\n",
    "total_pred = {classname: 0 for classname in classes}\n",
    "\n",
    "with torch.no_grad():\n",
    "    for data in validation_loader:\n",
    "        images, labels = data\n",
    "        outputs = model(images)\n",
    "        _, predictions = torch.max(outputs, 1)\n",
    "        for label, prediction in zip(labels, predictions):\n",
    "            if label == prediction:\n",
    "                correct_pred[classes[label]] += 1\n",
    "            total_pred[classes[label]] += 1\n",
    "\n",
    "for classname, correct_count in correct_pred.items():\n",
    "    accuracy = 100 * float(correct_count) / total_pred[classname]\n",
    "    print(f'Accuracy for class: {classname:5s} is {accuracy:.1f} %')"
   ]
  },
  {
   "cell_type": "code",
   "execution_count": null,
   "id": "2cf2abda",
   "metadata": {},
   "outputs": [],
   "source": [
    "# prev had accuracy: default model with weighting\n",
    "# Accuracy of the network on the validation images: 73 %\n",
    "# Accuracy for class: Pukeko is 77.4 %\n",
    "# Accuracy for class: Takahe is 46.9 %\n",
    "\n",
    "# Current\n",
    "# Accuracy of the network on the validation images: 78 %\n",
    "# Accuracy for class: Pukeko is 84.9 %\n",
    "# Accuracy for class: Takahe is 34.4 %\n",
    "\n",
    "# overall accuracy dropped, but takahe accuracy increased\n",
    "\n",
    "# want better than 50%, so at least 65% for both, maybe consider "
   ]
  },
  {
   "cell_type": "code",
   "execution_count": null,
   "id": "6355e644",
   "metadata": {},
   "outputs": [],
   "source": [
    "PATH = 'Models/model1.pth'\n",
    "torch.save(model.state_dict(), PATH)"
   ]
  },
  {
   "cell_type": "code",
   "execution_count": null,
   "id": "f8436b51",
   "metadata": {},
   "outputs": [],
   "source": []
  }
 ],
 "metadata": {
  "kernelspec": {
   "display_name": "Python 3",
   "language": "python",
   "name": "python3"
  },
  "language_info": {
   "codemirror_mode": {
    "name": "ipython",
    "version": 3
   },
   "file_extension": ".py",
   "mimetype": "text/x-python",
   "name": "python",
   "nbconvert_exporter": "python",
   "pygments_lexer": "ipython3",
   "version": "3.12.9"
  }
 },
 "nbformat": 4,
 "nbformat_minor": 5
}
